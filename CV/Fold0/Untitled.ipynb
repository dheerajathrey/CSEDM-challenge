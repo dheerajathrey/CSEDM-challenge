{
 "cells": [
  {
   "cell_type": "code",
   "execution_count": 2,
   "metadata": {},
   "outputs": [],
   "source": [
    "import pandas as pd"
   ]
  },
  {
   "cell_type": "code",
   "execution_count": 16,
   "metadata": {},
   "outputs": [
    {
     "data": {
      "text/plain": [
       "array(['S002', 'S011', 'S014', 'S020', 'S023', 'S034', 'S045', 'S053',\n",
       "       'S054', 'S058', 'S062', 'S065', 'S072', 'S074', 'S082', 'S085',\n",
       "       'S089', 'S107', 'S110', 'S112', 'S117', 'S127', 'S132', 'S139',\n",
       "       'S148', 'S150', 'S170', 'S175', 'S180', 'S181', 'S187', 'S201',\n",
       "       'S207', 'S211', 'S307', 'S331', 'S334', 'S347', 'S372', 'S374',\n",
       "       'S377', 'S397', 'S399', 'S412', 'S444', 'S454', 'S455', 'S457',\n",
       "       'S467', 'S481', 'S496', 'S508', 'S510', 'S523', 'S534', 'S535',\n",
       "       'S539', 'S540', 'S546', 'S586', 'S587', 'S588', 'S592', 'S602',\n",
       "       'S608', 'S642', 'S652', 'S654', 'S658', 'S659', 'S665', 'S683',\n",
       "       'S707', 'S720', 'S749', 'S761', 'S763', 'S773', 'SA'], dtype=object)"
      ]
     },
     "execution_count": 16,
     "metadata": {},
     "output_type": "execute_result"
    }
   ],
   "source": [
    "df=pd.read_csv(\"Training.csv\")\n",
    "df.SubjectID.unique()"
   ]
  },
  {
   "cell_type": "code",
   "execution_count": 17,
   "metadata": {},
   "outputs": [
    {
     "data": {
      "text/plain": [
       "array(['S049', 'S194', 'S198', 'S378', 'S430', 'S469', 'S537'],\n",
       "      dtype=object)"
      ]
     },
     "execution_count": 17,
     "metadata": {},
     "output_type": "execute_result"
    }
   ],
   "source": [
    "df2=pd.read_csv(\"Test.csv\")\n",
    "df2.SubjectID.unique()"
   ]
  },
  {
   "cell_type": "code",
   "execution_count": 3,
   "metadata": {},
   "outputs": [
    {
     "name": "stderr",
     "output_type": "stream",
     "text": [
      "'pwd' is not recognized as an internal or external command,\n",
      "operable program or batch file.\n"
     ]
    }
   ],
   "source": [
    "!pwd"
   ]
  }
 ],
 "metadata": {
  "kernelspec": {
   "display_name": "Python 3",
   "language": "python",
   "name": "python3"
  },
  "language_info": {
   "codemirror_mode": {
    "name": "ipython",
    "version": 3
   },
   "file_extension": ".py",
   "mimetype": "text/x-python",
   "name": "python",
   "nbconvert_exporter": "python",
   "pygments_lexer": "ipython3",
   "version": "3.6.7rc1"
  }
 },
 "nbformat": 4,
 "nbformat_minor": 2
}
